{
 "cells": [
  {
   "cell_type": "code",
   "execution_count": 2,
   "id": "a561a377",
   "metadata": {},
   "outputs": [
    {
     "name": "stdout",
     "output_type": "stream",
     "text": [
      "Collecting nbformat\n",
      "  Downloading nbformat-5.10.4-py3-none-any.whl (78 kB)\n",
      "Collecting jsonschema>=2.6\n",
      "  Downloading jsonschema-4.23.0-py3-none-any.whl (88 kB)\n",
      "Requirement already satisfied: traitlets>=5.1 in c:\\users\\asus\\appdata\\roaming\\python\\python310\\site-packages (from nbformat) (5.14.3)\n",
      "Collecting fastjsonschema>=2.15\n",
      "  Downloading fastjsonschema-2.21.1-py3-none-any.whl (23 kB)\n",
      "Requirement already satisfied: jupyter-core!=5.0.*,>=4.12 in c:\\users\\asus\\appdata\\roaming\\python\\python310\\site-packages (from nbformat) (5.7.2)\n",
      "Collecting rpds-py>=0.7.1\n",
      "  Downloading rpds_py-0.24.0-cp310-cp310-win_amd64.whl (234 kB)\n",
      "Collecting jsonschema-specifications>=2023.03.6\n",
      "  Downloading jsonschema_specifications-2024.10.1-py3-none-any.whl (18 kB)\n",
      "Collecting referencing>=0.28.4\n",
      "  Downloading referencing-0.36.2-py3-none-any.whl (26 kB)\n",
      "Requirement already satisfied: attrs>=22.2.0 in c:\\users\\asus\\appdata\\local\\programs\\python\\python310\\lib\\site-packages (from jsonschema>=2.6->nbformat) (25.3.0)\n",
      "Requirement already satisfied: platformdirs>=2.5 in c:\\users\\asus\\appdata\\local\\programs\\python\\python310\\lib\\site-packages (from jupyter-core!=5.0.*,>=4.12->nbformat) (4.3.7)\n",
      "Requirement already satisfied: pywin32>=300 in c:\\users\\asus\\appdata\\roaming\\python\\python310\\site-packages (from jupyter-core!=5.0.*,>=4.12->nbformat) (310)\n",
      "Requirement already satisfied: typing-extensions>=4.4.0 in c:\\users\\asus\\appdata\\local\\programs\\python\\python310\\lib\\site-packages (from referencing>=0.28.4->jsonschema>=2.6->nbformat) (4.12.2)\n",
      "Installing collected packages: rpds-py, referencing, jsonschema-specifications, jsonschema, fastjsonschema, nbformat\n",
      "Successfully installed fastjsonschema-2.21.1 jsonschema-4.23.0 jsonschema-specifications-2024.10.1 nbformat-5.10.4 referencing-0.36.2 rpds-py-0.24.0\n"
     ]
    },
    {
     "name": "stderr",
     "output_type": "stream",
     "text": [
      "WARNING: You are using pip version 21.2.3; however, version 25.0.1 is available.\n",
      "You should consider upgrading via the 'C:\\Users\\ASUS\\AppData\\Local\\Programs\\Python\\Python310\\python.exe -m pip install --upgrade pip' command.\n"
     ]
    }
   ],
   "source": [
    "!pip install nbformat"
   ]
  },
  {
   "cell_type": "code",
   "execution_count": null,
   "id": "cd3741c6",
   "metadata": {},
   "outputs": [],
   "source": [
    "\n",
    "import plotly.graph_objects as go\n",
    "from plotly.subplots import make_subplots\n",
    "import random\n",
    "\n",
    "# Sample data for Vessel 1 and Vessel 2\n",
    "def generate_overall_graph(data, category=[\"pre-bunkering\", \"post-bunkering\", \"post-bunkering with waiting time\"]):\n",
    "    # Analyse data for title\n",
    "    subplot_titles = []\n",
    "    for element in data:\n",
    "        subplot_titles.append(list(element.keys())[0])\n",
    "\n",
    "    # Create subplots\n",
    "    # fig = make_subplots(rows=1, cols=2, subplot_titles=(\"Vessel 1\", \"Vessel 2\"))\n",
    "    fig = make_subplots(rows=1, cols=2, subplot_titles=tuple(subplot_titles))\n",
    "\n",
    "    # Create individual graphs\n",
    "    for index, element in enumerate(data):\n",
    "        fig.add_trace(go.Bar(x=category, y=element[\"Value\"], name=subplot_titles[index]),\n",
    "                    row=1, col=1\n",
    "        )\n",
    "\n",
    "    # # Add bar graph for Vessel 2\n",
    "    # fig.add_trace(go.Bar(x=vessel_2_data[\"Category\"], y=vessel_2_data[\"Value\"], name=\"Vessel 2\"),\n",
    "    #             row=1, col=2\n",
    "    # )\n",
    "\n",
    "    # Update layout\n",
    "    fig.update_layout(title_text=f\"Overall (average) performance\")\n",
    "\n",
    "    # # Show the figure\n",
    "    # fig.show()\n",
    "\n",
    "\n",
    "data = [{'Bellina': '2021',\n",
    "         \"Value\": [random.randint(1, 24) for _ in range(3)]}, \n",
    "         {'Venosa': '2021',\n",
    "         \"Value\": [random.randint(1, 24) for _ in range(3)]}]\n",
    "\n",
    "generate_overall_graph(data, category=[\"pre-bunkering\", \"post-bunkering\", \"post-bunkering with waiting time\"])"
   ]
  },
  {
   "cell_type": "code",
   "execution_count": 12,
   "id": "52c67f1d",
   "metadata": {},
   "outputs": [
    {
     "name": "stdout",
     "output_type": "stream",
     "text": [
      "Bellina\n",
      "Venosa\n"
     ]
    }
   ],
   "source": [
    "for e in data:\n",
    "    print(list(e.keys())[0])"
   ]
  },
  {
   "cell_type": "code",
   "execution_count": 14,
   "id": "68750330",
   "metadata": {},
   "outputs": [
    {
     "name": "stdout",
     "output_type": "stream",
     "text": [
      "('Vessel 1', 'Vessel 2')\n"
     ]
    }
   ],
   "source": [
    "a = [\"Vessel 1\", \"Vessel 2\"]\n",
    "\n",
    "a = tuple(a)\n",
    "\n",
    "print(a)"
   ]
  }
 ],
 "metadata": {
  "kernelspec": {
   "display_name": "Python 3",
   "language": "python",
   "name": "python3"
  },
  "language_info": {
   "codemirror_mode": {
    "name": "ipython",
    "version": 3
   },
   "file_extension": ".py",
   "mimetype": "text/x-python",
   "name": "python",
   "nbconvert_exporter": "python",
   "pygments_lexer": "ipython3",
   "version": "3.10.0"
  }
 },
 "nbformat": 4,
 "nbformat_minor": 5
}
